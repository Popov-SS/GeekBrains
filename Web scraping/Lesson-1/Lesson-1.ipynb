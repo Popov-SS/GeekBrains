{
 "cells": [
  {
   "cell_type": "code",
   "execution_count": 2,
   "metadata": {},
   "outputs": [],
   "source": [
    "import requests\n",
    "import json"
   ]
  },
  {
   "cell_type": "code",
   "execution_count": 2,
   "metadata": {},
   "outputs": [],
   "source": [
    "#Здесь указывается имя необходимого пользователя\n",
    "username = 'xWisecrack'"
   ]
  },
  {
   "cell_type": "code",
   "execution_count": 3,
   "metadata": {},
   "outputs": [],
   "source": [
    "# отправка get-запроса\n",
    "response = requests.get('https://api.github.com/users/'+username+'/repos')\n",
    "\n",
    "# сохранение ответа и перевод в формат json\n",
    "data = json.loads(response.text)\n",
    "\n",
    "# запись ответа в файл\n",
    "with open(\"output.json\", \"w\") as outfile:\n",
    "    outfile.write(str(data))"
   ]
  }
 ],
 "metadata": {
  "kernelspec": {
   "display_name": "Python 3",
   "language": "python",
   "name": "python3"
  },
  "language_info": {
   "codemirror_mode": {
    "name": "ipython",
    "version": 3
   },
   "file_extension": ".py",
   "mimetype": "text/x-python",
   "name": "python",
   "nbconvert_exporter": "python",
   "pygments_lexer": "ipython3",
   "version": "3.7.6"
  }
 },
 "nbformat": 4,
 "nbformat_minor": 4
}
